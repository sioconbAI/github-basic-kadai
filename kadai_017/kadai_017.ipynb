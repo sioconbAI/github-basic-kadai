{
  "nbformat": 4,
  "nbformat_minor": 0,
  "metadata": {
    "colab": {
      "provenance": []
    },
    "kernelspec": {
      "name": "python3",
      "display_name": "Python 3"
    },
    "language_info": {
      "name": "python"
    }
  },
  "cells": [
    {
      "cell_type": "code",
      "execution_count": 4,
      "metadata": {
        "colab": {
          "base_uri": "https://localhost:8080/"
        },
        "id": "hro6tV8xgXmY",
        "outputId": "0befa763-db5e-4fb2-e490-1d2915607351"
      },
      "outputs": [
        {
          "output_type": "stream",
          "name": "stdout",
          "text": [
            "侍太郎は大人です。\n",
            "侍二郎は大人です。\n",
            "侍三郎は大人です。\n",
            "侍四郎は大人ではありません。\n"
          ]
        }
      ],
      "source": [
        "class Human:\n",
        "  def __init__(self, name, age):\n",
        "    self.name = name\n",
        "    self.age = age\n",
        "\n",
        "  def check_adult(self):\n",
        "    if self.age >= 20:\n",
        "      print(f\"{self.name}は大人です。\")\n",
        "    else:\n",
        "      print(f\"{self.name}は大人ではありません。\")\n",
        "\n",
        "human_name = [\"侍太郎\", \"侍二郎\", \"侍三郎\", \"侍四郎\"]\n",
        "human_age = [30, 26, 20, 16]\n",
        "\n",
        "human_list = []\n",
        "\n",
        "for key, value in zip(human_name, human_age):\n",
        "  human = Human(key, value)\n",
        "  human_list.append(human)\n",
        "\n",
        "for humans in human_list:\n",
        "  humans.check_adult()"
      ]
    }
  ]
}