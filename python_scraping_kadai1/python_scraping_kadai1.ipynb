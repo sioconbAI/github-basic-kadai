{
  "nbformat": 4,
  "nbformat_minor": 0,
  "metadata": {
    "colab": {
      "provenance": []
    },
    "kernelspec": {
      "name": "python3",
      "display_name": "Python 3"
    },
    "language_info": {
      "name": "python"
    }
  },
  "cells": [
    {
      "cell_type": "code",
      "source": [
        "!pip install requests beautifulsoup4"
      ],
      "metadata": {
        "colab": {
          "base_uri": "https://localhost:8080/"
        },
        "id": "YN2Rvw2atEBh",
        "outputId": "ebb89caa-9c46-4ba1-da9b-fd9e60342b9b"
      },
      "execution_count": 1,
      "outputs": [
        {
          "output_type": "stream",
          "name": "stdout",
          "text": [
            "Requirement already satisfied: requests in /usr/local/lib/python3.10/dist-packages (2.32.3)\n",
            "Requirement already satisfied: beautifulsoup4 in /usr/local/lib/python3.10/dist-packages (4.12.3)\n",
            "Requirement already satisfied: charset-normalizer<4,>=2 in /usr/local/lib/python3.10/dist-packages (from requests) (3.4.0)\n",
            "Requirement already satisfied: idna<4,>=2.5 in /usr/local/lib/python3.10/dist-packages (from requests) (3.10)\n",
            "Requirement already satisfied: urllib3<3,>=1.21.1 in /usr/local/lib/python3.10/dist-packages (from requests) (2.2.3)\n",
            "Requirement already satisfied: certifi>=2017.4.17 in /usr/local/lib/python3.10/dist-packages (from requests) (2024.8.30)\n",
            "Requirement already satisfied: soupsieve>1.2 in /usr/local/lib/python3.10/dist-packages (from beautifulsoup4) (2.6)\n"
          ]
        }
      ]
    },
    {
      "cell_type": "code",
      "execution_count": 2,
      "metadata": {
        "colab": {
          "base_uri": "https://localhost:8080/"
        },
        "id": "hro6tV8xgXmY",
        "outputId": "5d865077-daa0-46e7-afcf-cec2fbc52714"
      },
      "outputs": [
        {
          "output_type": "stream",
          "name": "stdout",
          "text": [
            "自民・公明と国民民主3党の幹事長がきょう、いわゆる年収「103万円の壁」について「178万円を目指して来年から引き上げる」などと合意したことについて、宮沢税調会長は「釈然としない」と苦言を呈しました。\n",
            "\n",
            "【写真で解説】「103万円の壁」を178万円に引き上げると・・・実は“8兆円”の大減税　財源どうする？\n",
            "\n",
            "宮沢氏は来年度の税制改正をめぐる国民民主党との協議の責任者で、いわゆる年収「103万円の壁」の見直しについては、あさって、自民・公明と国民民主の3党で協議する予定でした。\n",
            "\n",
            "ところが、きょう、3党の幹事長会談で国民民主側の要望をおおむね受け入れ、現状「103万円」の年収の壁を「178万円を目指して来年から引き上げる」ことで合意しました。\n",
            "\n",
            "宮沢洋一 税調会長\n",
            "「（これまでの）3党の税調会長の協議というものは、一歩一歩、前進をしてきたところで、こういう話が出てくることについて言えば、釈然としない感じは正直言ってございます」\n",
            "\n",
            "宮沢氏は「正直、びっくりしたことは事実」と述べた上で、合意事項の「詳しい解釈については全く聞いていないので、今の段階でコメントしない」と語りました。\n"
          ]
        }
      ],
      "source": [
        "import requests\n",
        "from bs4 import BeautifulSoup\n",
        "\n",
        "url = 'https://news.yahoo.co.jp/articles/4a79ada200f257a0290feef6acb41c541d6c2b50'\n",
        "\n",
        "response = requests.get(url)\n",
        "\n",
        "soup = BeautifulSoup(response.text, 'html.parser')\n",
        "p_element = soup.select_one('#uamods > div > div > p')\n",
        "text = p_element.text\n",
        "print(text)"
      ]
    }
  ]
}