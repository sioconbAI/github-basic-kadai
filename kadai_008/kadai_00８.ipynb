{
  "nbformat": 4,
  "nbformat_minor": 0,
  "metadata": {
    "colab": {
      "provenance": []
    },
    "kernelspec": {
      "name": "python3",
      "display_name": "Python 3"
    },
    "language_info": {
      "name": "python"
    }
  },
  "cells": [
    {
      "cell_type": "code",
      "execution_count": 84,
      "metadata": {
        "colab": {
          "base_uri": "https://localhost:8080/"
        },
        "id": "hro6tV8xgXmY",
        "outputId": "d5755cda-17f6-49f4-e182-6794228780de"
      },
      "outputs": [
        {
          "output_type": "stream",
          "name": "stdout",
          "text": [
            "8\n"
          ]
        }
      ],
      "source": [
        "import random\n",
        "\n",
        "var = random.randint(1, 50)\n",
        "\n",
        "if var % 3 == 0 and var % 5 == 0:\n",
        "  print(\"FizzBuzz\")\n",
        "elif var % 5 == 0:\n",
        "  print(\"Buzz\")\n",
        "elif var % 3 == 0:\n",
        "  print(\"Fizz\")\n",
        "else:\n",
        "  print(var)"
      ]
    }
  ]
}