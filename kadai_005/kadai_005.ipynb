{
  "nbformat": 4,
  "nbformat_minor": 0,
  "metadata": {
    "colab": {
      "provenance": []
    },
    "kernelspec": {
      "name": "python3",
      "display_name": "Python 3"
    },
    "language_info": {
      "name": "python"
    }
  },
  "cells": [
    {
      "cell_type": "code",
      "execution_count": 1,
      "metadata": {
        "colab": {
          "base_uri": "https://localhost:8080/"
        },
        "id": "hro6tV8xgXmY",
        "outputId": "734baadc-845c-4392-f036-254ea0279edf"
      },
      "outputs": [
        {
          "output_type": "stream",
          "name": "stdout",
          "text": [
            "500.0cm²\n"
          ]
        }
      ],
      "source": [
        "area = (10 + 20) * 5 / 2\n",
        "\n",
        "print(f\"{area}cm²\")"
      ]
    }
  ]
}